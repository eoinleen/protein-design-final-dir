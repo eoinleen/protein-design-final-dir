{
  "nbformat": 4,
  "nbformat_minor": 0,
  "metadata": {
    "colab": {
      "provenance": [],
      "mount_file_id": "1Elx-gbaqbyrNoUyxy68tRBq8lEyufFR4",
      "authorship_tag": "ABX9TyMiKOlvzAmIpp5i9AJ4Lqbm",
      "include_colab_link": true
    },
    "kernelspec": {
      "name": "python3",
      "display_name": "Python 3"
    },
    "language_info": {
      "name": "python"
    }
  },
  "cells": [
    {
      "cell_type": "markdown",
      "metadata": {
        "id": "view-in-github",
        "colab_type": "text"
      },
      "source": [
        "<a href=\"https://colab.research.google.com/github/eoinleen/protein-design-final-dir/blob/main/Google-drive_dir_file_count.ipynb\" target=\"_parent\"><img src=\"https://colab.research.google.com/assets/colab-badge.svg\" alt=\"Open In Colab\"/></a>"
      ]
    },
    {
      "cell_type": "code",
      "execution_count": 3,
      "metadata": {
        "colab": {
          "base_uri": "https://localhost:8080/"
        },
        "id": "lxvgBmrcoyqB",
        "outputId": "52a09959-9098-4571-d497-6357c216346f"
      },
      "outputs": [
        {
          "output_type": "stream",
          "name": "stdout",
          "text": [
            "{'file_types': {'.pdb': 2048, '.csv': 1}, 'subdirectories': 0}\n"
          ]
        }
      ],
      "source": [
        "\"\"\"\n",
        "Google Drive Folder Analyzer\n",
        "Version: 1.0\n",
        "Created: January 25, 2025\n",
        "Author: Claude (Anthropic)\n",
        "\n",
        "Analyzes contents of a Google Drive folder, reporting:\n",
        "- Count of each file type by extension\n",
        "- Number of subdirectories\n",
        "Usage: analyze_folder('/path/to/folder')\n",
        "\n",
        "used to make sure all files have been uploaded correctly before running analysis scripts.\n",
        "\"\"\"\n",
        "\n",
        "import os\n",
        "from collections import Counter\n",
        "\n",
        "def analyze_folder(path):\n",
        "    if not os.path.exists(path):\n",
        "        return \"Path not found\"\n",
        "\n",
        "    files = os.listdir(path)\n",
        "    extensions = Counter(os.path.splitext(f)[1].lower() for f in files if os.path.isfile(os.path.join(path, f)))\n",
        "    subdirs = sum(os.path.isdir(os.path.join(path, f)) for f in files)\n",
        "\n",
        "    return {\n",
        "        \"file_types\": dict(extensions),\n",
        "        \"subdirectories\": subdirs\n",
        "    }\n",
        "\n",
        "# Usage\n",
        "path = '/content/drive/MyDrive/PDB-files/3NOBL-30m/all_pdb/'\n",
        "stats = analyze_folder(path)\n",
        "print(stats)"
      ]
    }
  ]
}