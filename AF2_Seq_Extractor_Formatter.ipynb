{
  "nbformat": 4,
  "nbformat_minor": 0,
  "metadata": {
    "colab": {
      "provenance": [],
      "mount_file_id": "1P6KrqMb3JxUI13KqNrkCSmUugetE0oWK",
      "authorship_tag": "ABX9TyPeK9aGtTSR7Ut+UW9CGlcB",
      "include_colab_link": true
    },
    "kernelspec": {
      "name": "python3",
      "display_name": "Python 3"
    },
    "language_info": {
      "name": "python"
    }
  },
  "cells": [
    {
      "cell_type": "markdown",
      "metadata": {
        "id": "view-in-github",
        "colab_type": "text"
      },
      "source": [
        "<a href=\"https://colab.research.google.com/github/eoinleen/protein-design-final-dir/blob/main/AF2_Seq_Extractor_Formatter.ipynb\" target=\"_parent\"><img src=\"https://colab.research.google.com/assets/colab-badge.svg\" alt=\"Open In Colab\"/></a>"
      ]
    },
    {
      "cell_type": "code",
      "execution_count": 4,
      "metadata": {
        "colab": {
          "base_uri": "https://localhost:8080/"
        },
        "id": "z9qzWv5SRdDB",
        "outputId": "9f5791aa-ee75-45bb-be76-3c16d5337ea9"
      },
      "outputs": [
        {
          "output_type": "stream",
          "name": "stdout",
          "text": [
            "Drive already mounted at /content/drive; to attempt to forcibly remount, call drive.mount(\"/content/drive\", force_remount=True).\n",
            "Created:\n",
            "- 2048 individual FASTA files in /content/drive/MyDrive/PDB-files/202501xx/3NOB-70-110-all_pdb/fasta_files\n",
            "- 2048 individual TXT files in /content/drive/MyDrive/PDB-files/202501xx/3NOB-70-110-all_pdb/txt_files\n",
            "- Combined FASTA file with all sequences: /content/drive/MyDrive/PDB-files/202501xx/3NOB-70-110-all_pdb/all_sequences.fasta\n"
          ]
        }
      ],
      "source": [
        "\"\"\"\n",
        "AF2 Sequence Extractor and Formatter\n",
        "==================================\n",
        "Created: January 31, 2025\n",
        "Author: Claude & User\n",
        "Version: 1.0\n",
        "\n",
        "Purpose:\n",
        "--------\n",
        "Extracts and formats protein sequences from AF2 output files, designed specifically\n",
        "for handling dual-sequence entries (sequence1/sequence2) from AF2 scoring data.\n",
        "\n",
        "Input Required:\n",
        "--------------\n",
        "- CSV file containing columns:\n",
        "  * design (column 2): Design number\n",
        "  * n (column 3): Sequence number within design\n",
        "  * seq: Full sequence string in format \"sequence1/sequence2\"\n",
        "\n",
        "Output Generated:\n",
        "---------------\n",
        "1. Individual .fasta files (in /fasta_files/):\n",
        "   - Named as 'dXnY.fasta' where X=design number, Y=sequence number\n",
        "   - Each file contains one sequence in FASTA format\n",
        "\n",
        "2. Individual .txt files (in /txt_files/):\n",
        "   - Named as 'dXnY.txt'\n",
        "   - Content identical to FASTA files\n",
        "\n",
        "3. Combined sequence file:\n",
        "   - Named 'all_sequences.fasta'\n",
        "   - Contains all sequences in FASTA format\n",
        "   - Saved in same directory as input CSV\n",
        "\n",
        "Usage:\n",
        "------\n",
        "1. Mount Google Drive in Colab\n",
        "2. Update input_csv path to point to your AF2 scores file\n",
        "3. Run script\n",
        "\"\"\"\n",
        "\n",
        "import pandas as pd\n",
        "import os\n",
        "from google.colab import drive\n",
        "\n",
        "def extract_and_save_sequences(csv_path: str):\n",
        "    \"\"\"\n",
        "    Main function to process sequences and create output files\n",
        "\n",
        "    Args:\n",
        "        csv_path (str): Path to input CSV file containing AF2 scores and sequences\n",
        "    \"\"\"\n",
        "    # Read the input CSV file\n",
        "    df = pd.read_csv(csv_path)\n",
        "\n",
        "    # Setup output directory structure using input CSV location\n",
        "    output_dir = os.path.dirname(csv_path)\n",
        "\n",
        "    # Create subdirectories for individual files\n",
        "    fasta_dir = os.path.join(output_dir, 'fasta_files')\n",
        "    txt_dir = os.path.join(output_dir, 'txt_files')\n",
        "    os.makedirs(fasta_dir, exist_ok=True)\n",
        "    os.makedirs(txt_dir, exist_ok=True)\n",
        "\n",
        "    # Define path for the combined output file\n",
        "    combined_fasta = os.path.join(output_dir, 'all_sequences.fasta')\n",
        "\n",
        "    # Open combined file for writing all sequences\n",
        "    with open(combined_fasta, 'w') as combined:\n",
        "        # Iterate through each row in the CSV\n",
        "        for _, row in df.iterrows():\n",
        "            # Split the sequence at '/' and extract second sequence\n",
        "            sequences = row['seq'].split('/')\n",
        "            if len(sequences) != 2:\n",
        "                print(f\"Warning: Unexpected sequence format in design {row['design']}, sequence {row['n']}\")\n",
        "                continue\n",
        "\n",
        "            second_sequence = sequences[1].strip()\n",
        "\n",
        "            # Create shortened header in format dXnY\n",
        "            header = f\"d{row['design']}n{row['n']}\"\n",
        "\n",
        "            # Define paths for individual files\n",
        "            fasta_path = os.path.join(fasta_dir, f\"{header}.fasta\")\n",
        "            txt_path = os.path.join(txt_dir, f\"{header}.txt\")\n",
        "\n",
        "            # Write individual files (both .fasta and .txt)\n",
        "            for path in [fasta_path, txt_path]:\n",
        "                with open(path, 'w') as f:\n",
        "                    f.write(f\">{header}\\n\")\n",
        "                    f.write(f\"{second_sequence}\\n\")\n",
        "\n",
        "            # Append to combined FASTA file\n",
        "            combined.write(f\">{header}\\n\")\n",
        "            combined.write(f\"{second_sequence}\\n\")\n",
        "\n",
        "    # Print summary of files created\n",
        "    print(f\"Created:\")\n",
        "    print(f\"- {len(df)} individual FASTA files in {fasta_dir}\")\n",
        "    print(f\"- {len(df)} individual TXT files in {txt_dir}\")\n",
        "    print(f\"- Combined FASTA file with all sequences: {combined_fasta}\")\n",
        "\n",
        "# Main execution\n",
        "if __name__ == \"__main__\":\n",
        "    # Mount Google Drive for file access\n",
        "    drive.mount('/content/drive')\n",
        "\n",
        "    # Set path to input CSV file - UPDATE THIS PATH\n",
        "    input_csv = '/content/drive/MyDrive/PDB-files/202501xx/3NOB-70-110-all_pdb/af2_scores.csv'\n",
        "\n",
        "    # Run sequence extraction and file creation\n",
        "    extract_and_save_sequences(input_csv)"
      ]
    }
  ]
}